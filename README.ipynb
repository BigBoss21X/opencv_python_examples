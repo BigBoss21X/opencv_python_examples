{
 "cells": [
  {
   "cell_type": "markdown",
   "metadata": {},
   "source": [
    "# Learn Computer Vision and OpenCV Through Examples\n",
    "\n"
   ]
  },
  {
   "cell_type": "markdown",
   "metadata": {},
   "source": [
    "This a sequence of chapters in book form that I have been working on. Each chapter contains an IPython notebook with code for easy re-use, and markdown for easy reading. Each chapter is self-contained and all sample code is included in that chapter."
   ]
  },
  {
   "cell_type": "markdown",
   "metadata": {},
   "source": [
    "## Installing OpenCV 3.1 on Ubuntu"
   ]
  },
  {
   "cell_type": "markdown",
   "metadata": {},
   "source": [
    "How to install OpenCV 3.1 on Ubuntu"
   ]
  },
  {
   "cell_type": "code",
   "execution_count": null,
   "metadata": {
    "collapsed": true
   },
   "outputs": [],
   "source": [
    "$ sudo apt-get update\n",
    "$ sudo apt-get upgrade\n",
    "$ sudo apt-get install libjpeg8-dev libtiff4-dev libjasper-dev libpng12-dev\n",
    "$ sudo apt-get install build-essential cmake git pkg-config\n",
    "$ sudo apt-get install libavcodec-dev libavformat-dev libswscale-dev libv4l-dev\n",
    "$ sudo apt-get install libatlas-base-dev gfortran\t\n",
    "$ sudo apt-get install libgtk2.0-dev\n",
    "$ wget https://bootstrap.pypa.io/get-pip.py\n",
    "$ sudo python get-pip.py\n",
    "$ pip install numpy\t\n",
    "$ sudo apt-get install python2.7-dev\n",
    "$ cd ~\n",
    "$ git clone https://github.com/Itseez/opencv.git\n",
    "$ cd opencv\n",
    "$ git checkout 3.0.0\n",
    "$ cd ~/opencv\n",
    "$ mkdir build\n",
    "$ cd build\n",
    "$ cmake -D CMAKE_BUILD_TYPE=RELEASE \\\n",
    "\t-D CMAKE_INSTALL_PREFIX=/usr/local \\\n",
    "\t-D INSTALL_C_EXAMPLES=ON \\\n",
    "\t-D INSTALL_PYTHON_EXAMPLES=ON \\\n",
    "\t-D OPENCV_EXTRA_MODULES_PATH=~/opencv_contrib/modules \\\n",
    "\t-D BUILD_EXAMPLES=OFF ..\n",
    "    \n",
    "$ sudo make -j4 \n",
    "$ sudo make install\n",
    "$ sudo ldconfig\n"
   ]
  },
  {
   "cell_type": "code",
   "execution_count": null,
   "metadata": {
    "collapsed": true
   },
   "outputs": [],
   "source": []
  },
  {
   "cell_type": "code",
   "execution_count": null,
   "metadata": {
    "collapsed": true
   },
   "outputs": [],
   "source": []
  }
 ],
 "metadata": {
  "kernelspec": {
   "display_name": "Python 2",
   "language": "python",
   "name": "python2"
  },
  "language_info": {
   "codemirror_mode": {
    "name": "ipython",
    "version": 2
   },
   "file_extension": ".py",
   "mimetype": "text/x-python",
   "name": "python",
   "nbconvert_exporter": "python",
   "pygments_lexer": "ipython2",
   "version": "2.7.8"
  }
 },
 "nbformat": 4,
 "nbformat_minor": 1
}
