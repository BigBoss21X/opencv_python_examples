{
 "cells": [
  {
   "cell_type": "markdown",
   "metadata": {},
   "source": [
    "# Not So Expected GPU Image Transformations"
   ]
  },
  {
   "cell_type": "markdown",
   "metadata": {},
   "source": [
    "As we have already seen in previous chapters, some of the advantages of using OpenCV include its freely available and permissible BSD license, the incorporation of the Python ecosystem,  as well as its easy portability to many platforms.  We will now explore another of its advantages.  A great  advantage is its support of GPU accelerated computing.  GPU accelerated computing, is the use of a graphics processing unit (GPU)  in order to accelerate calculation-intensive applications. \n",
    "Most computers have a graphics processing unit (GPU) that computers use for any graphics rendering, single-instructions operations, as well as 3-D graphics.  This is in addition to the CPU found in modern day computers. GPU computing takes advantage of the GPU architecture, and its large number of cores, to perform many coordinated computations in parallel."
   ]
  },
  {
   "cell_type": "markdown",
   "metadata": {},
   "source": [
    "CPUs are good at doing many things, like data caching, control flow, job scheduling, data handling, handling user input, and so on, reasons for the CPU to be a mainstay of the computer industry for many decades.  \n",
    "In recent years with the introduction of portable and mobile devices, in addition to the continuous miniaturization of modern computers, CPUs have reached  a speed and thermal power limit that has challenged Moore's law tenets. In the speed domain, the speed of light has proven to be the ultimate speed limit. In the thermal domain, CPU design has found resistance in the laws of thermodynamics and heat transfer . These constraints have influenced the way that modern CPUs are designed . Modern CPU design has tried to overcome these limitations by innovating and improving the architecture, including innovative ways of improving memory caches, in addition to the development of diverse complex architectures.  It has also seen the introduction of multi-core CPUs. \n",
    "The advent and huge popularity of computer games with its heavy use of 3-D animation graphics, which  make use of calculation-intensive graphics, has fueled a lot of innovation in GPU technology.  By concentrating more on data processing instead of data caching, GPUs can have a higher number of cores working exclusively on data processing.  These technological advances have made it possible for the computing power of modern GPUs to increase at a very rapid pace in order to meet consumer demand for faster frames per second.  The computing power that  modern GPUs have achieved, have in many cases surpassed the computing power of CPUs.  \n",
    "The OpenCV library is presently being used in many of these compute-intensive applications.  Some of these include driver-less car navigation and control,  surveillance video/image search and retrieval, medical image analysis, and fast assembly line automated inspection, just to name a few.\n",
    " The use of the GPU in these compute-intensive applications, usually offers great speedups by sending the computer-intensive parts of the code to the GPU, and the rest of the code to run normally on the CPU.  By sending the calculation-intensive parts of the code to the GPU, it is possible to take advantage of present-day GPU architecture.  This architecture includes a ever-growing number of cores that are found in most modern GPUs, which help to improve speed-ups of code execution. Once the GPU is done with the compute-intensive code after having performed all the operations, it sends it back to the CPU.\n",
    "The OpenCV API includes two ports, the OpenCL GPU supported by many vendors, and the CUDA GPU whose CUDA implementation is supported by one vendor, namely the Nvidia Corporation.  The OpenCV API includes examples based on OpenCL and CUDA implementations included in two modules that incorporate GPU accelerated computing.  These ports support many of the most commonly used functions in the GPU accelerated computing environment."
   ]
  },
  {
   "cell_type": "markdown",
   "metadata": {},
   "source": [
    "## The OpenCL Module in OpenCV (OCL)"
   ]
  },
  {
   "cell_type": "markdown",
   "metadata": {},
   "source": [
    "The open computing language (OpenCL) is a framework for executing code across heterogeneous platforms using central processing units, graphical processing units, digital signal processors, and field-programmable gate arrays.  The OpenCL standard defines host application programming interfaces for C and C++, as well as third-party application programming interfaces such as Java, and Python.  \n",
    "OpenCL was initially developed by Apple, but at the moment it is currently maintained by a non-profit technology consortium, with representatives from many technology companies.  OpenCL has OpenCL implementations supported by many vendors.  These include AMD, Nvidia, Apple, Intel, IBM for PowerPC, Altera, and Portable OpenCL.  \n",
    "OpenCL is part of the Mesa library, an open-source implementation of the OpenGL specification, and its variety of device drivers allows Mesa to be used in hardware acceleration of modern GPUs. Some of these include Intel, AMD, Nvidia, and the VMware virtual GPU. Other open-source components include the libclc library, a library of CL C built-in functions for LLVM. OpenCL supports synchronization across multiple devices, and it comes with run-time code generation built-in.\n",
    "PyOpenCL makes it easy to access the OpenCL parallel computation API from Python.  PyOpenCL's base layer is written in C++, and it has a freely available and permissible (MIT) license."
   ]
  },
  {
   "cell_type": "markdown",
   "metadata": {},
   "source": [
    "## The CUDA GPU Module in OpenCV (GPU)"
   ]
  },
  {
   "cell_type": "markdown",
   "metadata": {},
   "source": [
    "In 2010, Nvidia supported a project in conjunction with OpenCV, that made it possible for the support of  OpenCV applications to run on CUDA enabled GPUs. This project has seen the creation of a port with more than  250 of the most commonly used  functions providing substantial speed ups in computer vision applications, with 5 to100 times the speed-up in comparison to a single core CPU.  \n",
    "The OpenCV GPU module is a set of classes and functions that make use of the computational capabilities found in CUDA enabled GPUs.  This implementation uses the Nvidia CUDA runtime application programming interface and supports only Nvidia GPUs.  For this reason, in order to run examples that run CUDA code, you must have an Nvidia graphics processing unit.\n",
    "If you want to run CUDA code on your Nvidia GPU, you need to download the CUDA toolkit from the Nvidia developer's website, by following the link below.  \n",
    "\n",
    "https://developer.nvidia.com/cuda-toolkit\n",
    "\n",
    "In order to run the code from the GPU module that comes with OpenCV, you need to use C++. In the next section I will be showing how we can access the CUDA API, by using  the PyCuda API Python wrapper.  \n",
    "In the following two programs, I will show two programs that perform the same operations using C++ and OpenCV performing the code on the CPU, and the GPU.  The first program applies some of the filters and edge detectors that we have used in previous chapters, and executes it on the CPU.  I have included a CmakeLists.txt file for easy compilation."
   ]
  },
  {
   "cell_type": "code",
   "execution_count": null,
   "metadata": {
    "collapsed": true
   },
   "outputs": [],
   "source": []
  },
  {
   "cell_type": "code",
   "execution_count": null,
   "metadata": {
    "collapsed": true
   },
   "outputs": [],
   "source": []
  },
  {
   "cell_type": "code",
   "execution_count": null,
   "metadata": {
    "collapsed": true
   },
   "outputs": [],
   "source": []
  }
 ],
 "metadata": {
  "kernelspec": {
   "display_name": "Python 2",
   "language": "python",
   "name": "python2"
  },
  "language_info": {
   "codemirror_mode": {
    "name": "ipython",
    "version": 2
   },
   "file_extension": ".py",
   "mimetype": "text/x-python",
   "name": "python",
   "nbconvert_exporter": "python",
   "pygments_lexer": "ipython2",
   "version": "2.7.6"
  }
 },
 "nbformat": 4,
 "nbformat_minor": 1
}
